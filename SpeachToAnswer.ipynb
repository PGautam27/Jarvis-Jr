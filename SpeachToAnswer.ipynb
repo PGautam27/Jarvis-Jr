{
 "cells": [
  {
   "cell_type": "code",
   "execution_count": 4,
   "id": "ceec58c3",
   "metadata": {},
   "outputs": [],
   "source": [
    "## installing openai whisper for speach to text\n",
    "## installing Gradio for the Ui model/ build the interface\n",
    "## installing openai for using the model\n",
    "\n",
    "!pip install -q git+https://github.com/openai/whisper.git\n",
    "!pip install -q gradio\n",
    "!pip install -q openai"
   ]
  },
  {
   "cell_type": "code",
   "execution_count": 26,
   "id": "292374c1",
   "metadata": {},
   "outputs": [],
   "source": [
    "## importing whisper for speech, gradio for the interface\n",
    "import whisper\n",
    "import gradio as gr\n",
    "import openai"
   ]
  },
  {
   "cell_type": "code",
   "execution_count": 27,
   "id": "898ba16a",
   "metadata": {},
   "outputs": [],
   "source": [
    "## Using the secretKey\n",
    "%store -r SECRET_CODE\n",
    "openai.api_key = SECRET_CODE"
   ]
  },
  {
   "cell_type": "code",
   "execution_count": 28,
   "id": "f8e2050b",
   "metadata": {},
   "outputs": [],
   "source": [
    "## Defining the model variable for using the whisper.\n",
    "m1 = whisper.load_model(\"base\")"
   ]
  },
  {
   "cell_type": "code",
   "execution_count": 29,
   "id": "24951cae",
   "metadata": {},
   "outputs": [],
   "source": [
    "## Now making the Speach to text function.\n",
    "\n",
    "def speachToText(audio):\n",
    "    \n",
    "    #Loading the audio file and triming it 30 sec\n",
    "    audio = whisper.load_audio(audio)\n",
    "    audio = whisper.pad_or_trim(audio)\n",
    "    \n",
    "    ## Making a log-mel spectrogram and movin to the same device as the model\n",
    "    ## log-mel spectrogram is a type of spectrogram used to represent audio signals. \n",
    "    ## They are created by taking the logarithm of the energy in each frequency bin of a normal spectrogram.\n",
    "    logMel = whisper.log_mel_spectrogram(audio).to(model.device)\n",
    "    \n",
    "    ## Detecting the language spoken\n",
    "    _, lang = model.detect_language(mel)\n",
    "    \n",
    "    ## Decoding the audio\n",
    "    options = whisper.DecodingOption()\n",
    "    result = whisper.decode(model, logMel, options)\n",
    "    text_result = whisper.text\n",
    "    \n",
    "    ## Now pass the generated text to the openai GPT3 model text_davinci and geting the response\n",
    "    response = opneai.Completion.create(engine=\"text-davinci-002\",prompt=text_result,max_tokens=500)\n",
    "    davinci_result = resp['message']\n",
    "    \n",
    "    return [text_result, davinci_result]"
   ]
  },
  {
   "cell_type": "code",
   "execution_count": 30,
   "id": "922f1c3f",
   "metadata": {},
   "outputs": [
    {
     "name": "stderr",
     "output_type": "stream",
     "text": [
      "C:\\Users\\gauta\\anaconda3\\lib\\site-packages\\gradio\\inputs.py:319: UserWarning: Usage of gradio.inputs is deprecated, and will not be supported in the future, please import your components from gradio.components\n",
      "  warnings.warn(\n",
      "C:\\Users\\gauta\\anaconda3\\lib\\site-packages\\gradio\\deprecation.py:40: UserWarning: `optional` parameter is deprecated, and it has no effect\n",
      "  warnings.warn(value)\n"
     ]
    },
    {
     "name": "stdout",
     "output_type": "stream",
     "text": [
      "Running on local URL:  http://127.0.0.1:7862\n",
      "\n",
      "To create a public link, set `share=True` in `launch()`.\n"
     ]
    },
    {
     "data": {
      "text/html": [
       "<div><iframe src=\"http://127.0.0.1:7862/\" width=\"100%\" height=\"500\" allow=\"autoplay; camera; microphone; clipboard-read; clipboard-write;\" frameborder=\"0\" allowfullscreen></iframe></div>"
      ],
      "text/plain": [
       "<IPython.core.display.HTML object>"
      ]
     },
     "metadata": {},
     "output_type": "display_data"
    },
    {
     "data": {
      "text/plain": []
     },
     "execution_count": 30,
     "metadata": {},
     "output_type": "execute_result"
    },
    {
     "name": "stderr",
     "output_type": "stream",
     "text": [
      "C:\\Users\\gauta\\anaconda3\\lib\\site-packages\\pydub\\utils.py:198: RuntimeWarning: Couldn't find ffprobe or avprobe - defaulting to ffprobe, but may not work\n",
      "  warn(\"Couldn't find ffprobe or avprobe - defaulting to ffprobe, but may not work\", RuntimeWarning)\n",
      "Traceback (most recent call last):\n",
      "  File \"C:\\Users\\gauta\\anaconda3\\lib\\site-packages\\gradio\\processing_utils.py\", line 199, in audio_from_file\n",
      "    audio = AudioSegment.from_file(filename)\n",
      "  File \"C:\\Users\\gauta\\anaconda3\\lib\\site-packages\\pydub\\audio_segment.py\", line 728, in from_file\n",
      "    info = mediainfo_json(orig_file, read_ahead_limit=read_ahead_limit)\n",
      "  File \"C:\\Users\\gauta\\anaconda3\\lib\\site-packages\\pydub\\utils.py\", line 274, in mediainfo_json\n",
      "    res = Popen(command, stdin=stdin_parameter, stdout=PIPE, stderr=PIPE)\n",
      "  File \"C:\\Users\\gauta\\anaconda3\\lib\\subprocess.py\", line 951, in __init__\n",
      "    self._execute_child(args, executable, preexec_fn, close_fds,\n",
      "  File \"C:\\Users\\gauta\\anaconda3\\lib\\subprocess.py\", line 1420, in _execute_child\n",
      "    hp, ht, pid, tid = _winapi.CreateProcess(executable, args,\n",
      "FileNotFoundError: [WinError 2] The system cannot find the file specified\n",
      "\n",
      "The above exception was the direct cause of the following exception:\n",
      "\n",
      "Traceback (most recent call last):\n",
      "  File \"C:\\Users\\gauta\\anaconda3\\lib\\site-packages\\gradio\\routes.py\", line 374, in run_predict\n",
      "    output = await app.get_blocks().process_api(\n",
      "  File \"C:\\Users\\gauta\\anaconda3\\lib\\site-packages\\gradio\\blocks.py\", line 1015, in process_api\n",
      "    inputs = self.preprocess_data(fn_index, inputs, state)\n",
      "  File \"C:\\Users\\gauta\\anaconda3\\lib\\site-packages\\gradio\\blocks.py\", line 913, in preprocess_data\n",
      "    processed_input.append(block.preprocess(inputs[i]))\n",
      "  File \"C:\\Users\\gauta\\anaconda3\\lib\\site-packages\\gradio\\components.py\", line 2049, in preprocess\n",
      "    sample_rate, data = processing_utils.audio_from_file(\n",
      "  File \"C:\\Users\\gauta\\anaconda3\\lib\\site-packages\\gradio\\processing_utils.py\", line 209, in audio_from_file\n",
      "    raise RuntimeError(msg) from e\n",
      "RuntimeError: Cannot load audio from file: `ffprobe` not found. Please install `ffmpeg` in your system to use non-WAV audio file formats and make sure `ffprobe` is in your PATH.\n",
      "Traceback (most recent call last):\n",
      "  File \"C:\\Users\\gauta\\anaconda3\\lib\\site-packages\\gradio\\processing_utils.py\", line 199, in audio_from_file\n",
      "    audio = AudioSegment.from_file(filename)\n",
      "  File \"C:\\Users\\gauta\\anaconda3\\lib\\site-packages\\pydub\\audio_segment.py\", line 728, in from_file\n",
      "    info = mediainfo_json(orig_file, read_ahead_limit=read_ahead_limit)\n",
      "  File \"C:\\Users\\gauta\\anaconda3\\lib\\site-packages\\pydub\\utils.py\", line 274, in mediainfo_json\n",
      "    res = Popen(command, stdin=stdin_parameter, stdout=PIPE, stderr=PIPE)\n",
      "  File \"C:\\Users\\gauta\\anaconda3\\lib\\subprocess.py\", line 951, in __init__\n",
      "    self._execute_child(args, executable, preexec_fn, close_fds,\n",
      "  File \"C:\\Users\\gauta\\anaconda3\\lib\\subprocess.py\", line 1420, in _execute_child\n",
      "    hp, ht, pid, tid = _winapi.CreateProcess(executable, args,\n",
      "FileNotFoundError: [WinError 2] The system cannot find the file specified\n",
      "\n",
      "The above exception was the direct cause of the following exception:\n",
      "\n",
      "Traceback (most recent call last):\n",
      "  File \"C:\\Users\\gauta\\anaconda3\\lib\\site-packages\\gradio\\routes.py\", line 374, in run_predict\n",
      "    output = await app.get_blocks().process_api(\n",
      "  File \"C:\\Users\\gauta\\anaconda3\\lib\\site-packages\\gradio\\blocks.py\", line 1015, in process_api\n",
      "    inputs = self.preprocess_data(fn_index, inputs, state)\n",
      "  File \"C:\\Users\\gauta\\anaconda3\\lib\\site-packages\\gradio\\blocks.py\", line 913, in preprocess_data\n",
      "    processed_input.append(block.preprocess(inputs[i]))\n",
      "  File \"C:\\Users\\gauta\\anaconda3\\lib\\site-packages\\gradio\\components.py\", line 2049, in preprocess\n",
      "    sample_rate, data = processing_utils.audio_from_file(\n",
      "  File \"C:\\Users\\gauta\\anaconda3\\lib\\site-packages\\gradio\\processing_utils.py\", line 209, in audio_from_file\n",
      "    raise RuntimeError(msg) from e\n",
      "RuntimeError: Cannot load audio from file: `ffprobe` not found. Please install `ffmpeg` in your system to use non-WAV audio file formats and make sure `ffprobe` is in your PATH.\n"
     ]
    }
   ],
   "source": [
    "## Getting the Gradio Interface setup.\n",
    "op1 = gr.Textbox(label = \"Speech to Text\")\n",
    "op2 = gr.Textbox(label = \"Output\")\n",
    "\n",
    "gr.Interface(\n",
    "    title = 'Speach to Text', \n",
    "    fn=speachToText, \n",
    "    inputs=[\n",
    "        gr.inputs.Audio(source=\"microphone\", type=\"filepath\")\n",
    "    ],\n",
    "\n",
    "    outputs=[\n",
    "        op1,  op2\n",
    "    ],\n",
    "    live=True).launch()"
   ]
  },
  {
   "cell_type": "code",
   "execution_count": null,
   "id": "20208d52",
   "metadata": {},
   "outputs": [],
   "source": []
  }
 ],
 "metadata": {
  "kernelspec": {
   "display_name": "Python 3 (ipykernel)",
   "language": "python",
   "name": "python3"
  },
  "language_info": {
   "codemirror_mode": {
    "name": "ipython",
    "version": 3
   },
   "file_extension": ".py",
   "mimetype": "text/x-python",
   "name": "python",
   "nbconvert_exporter": "python",
   "pygments_lexer": "ipython3",
   "version": "3.9.12"
  }
 },
 "nbformat": 4,
 "nbformat_minor": 5
}
